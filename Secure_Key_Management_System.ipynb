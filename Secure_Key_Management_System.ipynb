{
  "nbformat": 4,
  "nbformat_minor": 0,
  "metadata": {
    "colab": {
      "provenance": [],
      "authorship_tag": "ABX9TyPv0dXwWaBMY62Z0Fc0IRTn",
      "include_colab_link": true
    },
    "kernelspec": {
      "name": "python3",
      "display_name": "Python 3"
    },
    "language_info": {
      "name": "python"
    }
  },
  "cells": [
    {
      "cell_type": "markdown",
      "metadata": {
        "id": "view-in-github",
        "colab_type": "text"
      },
      "source": [
        "<a href=\"https://colab.research.google.com/github/leorasdsouza/Secure-Key-Management-System/blob/main/Secure_Key_Management_System.ipynb\" target=\"_parent\"><img src=\"https://colab.research.google.com/assets/colab-badge.svg\" alt=\"Open In Colab\"/></a>"
      ]
    },
    {
      "cell_type": "code",
      "execution_count": 7,
      "metadata": {
        "colab": {
          "base_uri": "https://localhost:8080/"
        },
        "id": "WScJEiTcZP_D",
        "outputId": "6294e73e-1ed1-43ac-bbe5-f5ffb6f71575"
      },
      "outputs": [
        {
          "output_type": "stream",
          "name": "stdout",
          "text": [
            "Encrypted key for client1: b'&\\xc7&\\x1d3\\x19wA\\xe6\\xd8\\x14\\xd5\\xb8\\xc7\\xe3\\xe6\\x7f\\xe2v\\x00\\xf1\\xb1\\xba\\xf7\\x16s\\xbeJ\\x8a\\xdde\\x8a%\\x8b\\xdaN\\xc6\\x04g}7\\xc9\\xf3\\xbf_\\x90\\xc4\\xdc\\xc6\\x96\\xf4EU\\x06#\\xf1\\x91L\\x83\\x03\\xc2no\\x7f'\n",
            "Encrypted key for client2: b'<D\\xabw\\xd0y\\xcc\\xd0\\xaa\\x86\\xca\\xe7p\\xc44\\xc7\\xc6p}\\xffn\\x8c\\xb0\\x9b\\xe9(\\xca\\x13}7\\xc7d\\x13\\\\\\xbe\\xaeY\\xcar-K\\x92\\x01(\\xe8\\xf6\\x89\\xec\\xb5\\xdd\\xb5\\xbe\\x88\\xd2v9\\xcd\\x90\\x84\\x87>\\x8ao\\xec'\n",
            "Decrypted key for client1: b'}\\xba\\x84\\x0fT\\x1e\\x1d\\x80\\x826\\x196\\x89\\t\\x9bv\\xe9b\\xe0\\x13X\\x84\\xf9y\\xac,Ca\\xcb]y\\x13'\n",
            "Decrypted key for client2: b'}\\xba\\x84\\x0fT\\x1e\\x1d\\x80\\x826\\x196\\x89\\t\\x9bv\\xe9b\\xe0\\x13X\\x84\\xf9y\\xac,Ca\\xcb]y\\x13'\n",
            "Decrypted keys match. Symmetric key distribution successful!\n"
          ]
        }
      ],
      "source": [
        "# symmetric key distribution\n",
        "from cryptography.hazmat.primitives.ciphers import Cipher, algorithms, modes\n",
        "from cryptography.hazmat.backends import default_backend\n",
        "from cryptography.hazmat.primitives import padding\n",
        "import os\n",
        "\n",
        "class KDC:\n",
        "    def __init__(self):\n",
        "        self.client_keys = {}  # Stores client IDs and their pre-shared keys\n",
        "\n",
        "    def register_client(self, client_id, key):\n",
        "        self.client_keys[client_id] = key\n",
        "\n",
        "    def generate_symmetric_key(self):\n",
        "        return os.urandom(32)  # 256-bit AES key\n",
        "\n",
        "    def distribute_key(self, client_id1, client_id2):\n",
        "        key = self.generate_symmetric_key()\n",
        "        encrypted_key1 = self.encrypt(key, self.client_keys[client_id1])\n",
        "        encrypted_key2 = self.encrypt(key, self.client_keys[client_id2])\n",
        "        return encrypted_key1, encrypted_key2\n",
        "\n",
        "    def encrypt(self, data, key):\n",
        "        iv = os.urandom(16)  # Initialization vector\n",
        "        cipher = Cipher(algorithms.AES(key), modes.CBC(iv), backend=default_backend())\n",
        "        encryptor = cipher.encryptor()\n",
        "        padder = padding.PKCS7(algorithms.AES.block_size).padder()\n",
        "        padded_data = padder.update(data) + padder.finalize()\n",
        "        return iv + encryptor.update(padded_data) + encryptor.finalize()\n",
        "\n",
        "    def decrypt(self, encrypted_data, key):\n",
        "        iv = encrypted_data[:16]  # Extract the IV from the encrypted data\n",
        "        ciphertext = encrypted_data[16:]\n",
        "        cipher = Cipher(algorithms.AES(key), modes.CBC(iv), backend=default_backend())\n",
        "        decryptor = cipher.decryptor()\n",
        "        padded_data = decryptor.update(ciphertext) + decryptor.finalize()\n",
        "        unpadder = padding.PKCS7(algorithms.AES.block_size).unpadder()\n",
        "        return unpadder.update(padded_data) + unpadder.finalize()\n",
        "\n",
        "# Example\n",
        "kdc = KDC()\n",
        "\n",
        "# Register clients with pre-shared keys\n",
        "client1_key = os.urandom(32)\n",
        "client2_key = os.urandom(32)\n",
        "kdc.register_client(\"client1\", client1_key)\n",
        "kdc.register_client(\"client2\", client2_key)\n",
        "\n",
        "# Distribute a symmetric key between client1 and client2\n",
        "encrypted_key1, encrypted_key2 = kdc.distribute_key(\"client1\", \"client2\")\n",
        "print(\"Encrypted key for client1:\", encrypted_key1)\n",
        "print(\"Encrypted key for client2:\", encrypted_key2)\n",
        "\n",
        "# Client1 decrypts the symmetric key\n",
        "decrypted_key1 = kdc.decrypt(encrypted_key1, client1_key)\n",
        "print(\"Decrypted key for client1:\", decrypted_key1)\n",
        "\n",
        "# Client2 decrypts the symmetric key\n",
        "decrypted_key2 = kdc.decrypt(encrypted_key2, client2_key)\n",
        "print(\"Decrypted key for client2:\", decrypted_key2)\n",
        "\n",
        "# Verify that both clients have the same symmetric key\n",
        "assert decrypted_key1 == decrypted_key2, \"Decrypted keys do not match!\"\n",
        "print(\"Decrypted keys match. Symmetric key distribution successful!\")"
      ]
    },
    {
      "cell_type": "code",
      "source": [
        "# pki asymmetric encryption and revocation of certificate\n",
        "from cryptography.hazmat.primitives.asymmetric import rsa\n",
        "from cryptography.hazmat.primitives import hashes\n",
        "from cryptography import x509\n",
        "from cryptography.x509.oid import NameOID\n",
        "from cryptography.hazmat.primitives import serialization\n",
        "import datetime\n",
        "\n",
        "class CA:\n",
        "    def __init__(self):\n",
        "        # Generate CA's private key\n",
        "        self.ca_private_key = rsa.generate_private_key(public_exponent=65537, key_size=2048)\n",
        "        self.ca_public_key = self.ca_private_key.public_key()\n",
        "        self.revoked_certs = []  # List to store revoked certificates\n",
        "\n",
        "    def issue_certificate(self, client_public_key, client_name):\n",
        "        # Create a certificate for the client\n",
        "        subject = issuer = x509.Name([\n",
        "            x509.NameAttribute(NameOID.COMMON_NAME, client_name),\n",
        "        ])\n",
        "        cert = x509.CertificateBuilder().subject_name(\n",
        "            subject\n",
        "        ).issuer_name(\n",
        "            issuer\n",
        "        ).public_key(\n",
        "            client_public_key\n",
        "        ).serial_number(\n",
        "            x509.random_serial_number()\n",
        "        ).not_valid_before(\n",
        "            datetime.datetime.utcnow()\n",
        "        ).not_valid_after(\n",
        "            datetime.datetime.utcnow() + datetime.timedelta(days=365)\n",
        "        ).sign(self.ca_private_key, hashes.SHA256())\n",
        "        return cert\n",
        "\n",
        "    def revoke_certificate(self, cert):\n",
        "        self.revoked_certs.append(cert.serial_number)\n",
        "        print(f\"Certificate with serial number {cert.serial_number} revoked.\")\n",
        "\n",
        "    def is_revoked(self, cert):\n",
        "        return cert.serial_number in self.revoked_certs\n",
        "\n",
        "# Example\n",
        "ca = CA()\n",
        "\n",
        "# Client generates their own key pair\n",
        "client_private_key = rsa.generate_private_key(public_exponent=65537, key_size=2048)\n",
        "client_public_key = client_private_key.public_key()\n",
        "\n",
        "# Client requests a certificate from the CA\n",
        "client_cert = ca.issue_certificate(client_public_key, \"client1\")\n",
        "\n",
        "# Serialize the certificate for storage/transmission\n",
        "pem_cert = client_cert.public_bytes(serialization.Encoding.PEM)\n",
        "print(\"Client Certificate:\\n\", pem_cert.decode())\n",
        "\n",
        "# Revoke the certificate\n",
        "ca.revoke_certificate(client_cert)\n",
        "print(\"Is certificate revoked?\", ca.is_revoked(client_cert))"
      ],
      "metadata": {
        "colab": {
          "base_uri": "https://localhost:8080/"
        },
        "id": "QdNBNfrnzwaO",
        "outputId": "709eede6-a9d9-4451-d830-bed0b875a4b2"
      },
      "execution_count": 8,
      "outputs": [
        {
          "output_type": "stream",
          "name": "stdout",
          "text": [
            "Client Certificate:\n",
            " -----BEGIN CERTIFICATE-----\n",
            "MIICsDCCAZigAwIBAgIUWIvJFj3gxcdxs3GrPIPxA0zTzbMwDQYJKoZIhvcNAQEL\n",
            "BQAwEjEQMA4GA1UEAwwHY2xpZW50MTAeFw0yNTAzMTgyMDQyNThaFw0yNjAzMTgy\n",
            "MDQyNThaMBIxEDAOBgNVBAMMB2NsaWVudDEwggEiMA0GCSqGSIb3DQEBAQUAA4IB\n",
            "DwAwggEKAoIBAQDGL9IyR0FGyHB7WyRFdJdQhjg/+cwj49P0+BxEghOm63WEVGGR\n",
            "itMLrLeTXrhDjNts4bNDOdrX1NnJPumK0ZIu9MDLX/NFePevgILk3MDLV58tKyEx\n",
            "OOC3QgK9Nm1qNIn6CKSxYJbzTNbRLGSjUah/LeZST1jwaMPRcOQ5QKgGecS6D7eV\n",
            "WIcrTg8CuJ7P0IlV28ECeukCDxHmzFT7B31ror44Gtcm/jDVrYffQVxnmOFFc07x\n",
            "uPjE9E9U4pUqaflNofR0QuCpVKc/SEaSF+1fREFB28w83OAMqfNuwgFFBTQHrNyg\n",
            "Btg1MmMQsCQwvaNH6117j+nauoI063aVpiDHAgMBAAEwDQYJKoZIhvcNAQELBQAD\n",
            "ggEBAJ0tmLHrWRKluF1ijU7XRCXng/HqC244kYAoveqo59ROgxNYPAD8YUh7769Y\n",
            "gHtGcnyH0L5FvHL6F+JqL1jWaz8nUCQubR64nOeHMjkfhlNfRLX6iPZLqGlPWDxz\n",
            "6Gi6IzcaelMGiUFk0xaAJSobgoWAnSqRPGDHNSZpQVyNRrZXw7+gOBtsROZnYLbY\n",
            "S7s1uF81sr+e3pZxKnBiUBwGbZKwN/uMfCaew6yBtTF0rYtfhNoth254peLhbvKv\n",
            "7OMut7hNM4k5Lc4VssBXvLzb2NouWpjeRN9wiVAr6v7ehz6feJd4KnDQ+b53VsYD\n",
            "GgMiHcFwV9S4tm4cu+jldwOKhKE=\n",
            "-----END CERTIFICATE-----\n",
            "\n",
            "Certificate with serial number 505508508553027984494888963655450949521759260083 revoked.\n",
            "Is certificate revoked? True\n"
          ]
        }
      ]
    },
    {
      "cell_type": "code",
      "source": [
        "# diffie hellman key exchange\n",
        "from cryptography.hazmat.primitives.asymmetric import dh\n",
        "from cryptography.hazmat.primitives import serialization\n",
        "\n",
        "# Generate DH parameters\n",
        "parameters = dh.generate_parameters(generator=2, key_size=2048)\n",
        "\n",
        "# Generate private keys for two parties\n",
        "private_key_a = parameters.generate_private_key()\n",
        "private_key_b = parameters.generate_private_key()\n",
        "\n",
        "# Generate public keys\n",
        "public_key_a = private_key_a.public_key()\n",
        "public_key_b = private_key_b.public_key()\n",
        "\n",
        "# Perform key exchange\n",
        "shared_key_a = private_key_a.exchange(public_key_b)\n",
        "shared_key_b = private_key_b.exchange(public_key_a)\n",
        "\n",
        "# Verify that both parties have the same shared key\n",
        "assert shared_key_a == shared_key_b, \"Shared keys do not match!\"\n",
        "\n",
        "# Serialize and store the shared key\n",
        "with open(\"shared_key.key\", \"wb\") as shared_file:\n",
        "    shared_file.write(shared_key_a)\n",
        "\n",
        "print(\"Diffie-Hellman key exchange completed. Shared key stored in 'shared_key.key'.\")"
      ],
      "metadata": {
        "colab": {
          "base_uri": "https://localhost:8080/"
        },
        "id": "woNA9gWo0NoL",
        "outputId": "c292c716-f73c-4b43-ca8b-7241c3327965"
      },
      "execution_count": 9,
      "outputs": [
        {
          "output_type": "stream",
          "name": "stdout",
          "text": [
            "Diffie-Hellman key exchange completed. Shared key stored in 'shared_key.key'.\n"
          ]
        }
      ]
    }
  ]
}